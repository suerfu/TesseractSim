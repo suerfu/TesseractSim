{
 "cells": [
  {
   "cell_type": "code",
   "execution_count": 1,
   "metadata": {},
   "outputs": [
    {
     "name": "stdout",
     "output_type": "stream",
     "text": [
      "Welcome to JupyROOT 6.24/06\n"
     ]
    }
   ],
   "source": [
    "import math\n",
    "import ROOT\n",
    "import matplotlib.pyplot as plt"
   ]
  },
  {
   "cell_type": "code",
   "execution_count": 34,
   "metadata": {},
   "outputs": [
    {
     "name": "stdout",
     "output_type": "stream",
     "text": [
      "Procecssing rock_g_K40.root\n",
      "rockGammaK40.root written.\n",
      "Flux per Bq/kg is 9.10976e-04 /cm2/s\n",
      "Procecssing rock_g_U238.root\n",
      "rockGammaU238.root written.\n",
      "Flux per Bq/kg is 8.93298e-03 /cm2/s\n",
      "Procecssing rock_g_Th232.root\n",
      "rockGammaTh232.root written.\n",
      "Flux per Bq/kg is 1.17790e-02 /cm2/s\n",
      "Procecssing rock_n_Unat.root\n",
      "Neutron simulation, setting range and cuts.\n",
      "rockNeutronUnat.root written.\n",
      "Flux per Bq/kg is 9.68031e-08 /cm2/s\n",
      "Procecssing rock_n_Th232.root\n",
      "Neutron simulation, setting range and cuts.\n",
      "rockNeutronTh232 written.\n",
      "Flux per Bq/kg is 1.00497e-07 /cm2/s\n"
     ]
    }
   ],
   "source": [
    "Dir = '../data/'\n",
    "    # directory that stores input data\n",
    "    \n",
    "# dictionary storing the pairs of input-output files.\n",
    "files = {\"rock_g_K40.root\"   : \"rockGammaK40.root\" ,\\\n",
    "         \"rock_g_U238.root\"  : \"rockGammaU238.root\",\\\n",
    "         \"rock_g_Th232.root\" : \"rockGammaTh232.root\",\\\n",
    "         \"rock_n_Unat.root\"  : \"rockNeutronUnat.root\",\\\n",
    "         \"rock_n_Th232.root\" : \"rockNeutronTh232\"\n",
    "        }\n",
    "    \n",
    "# dict that stores total number of simulations, used to deduce simulation time\n",
    "Nparticle = {\"rock_g_K40.root\"   : 1000000000 * 10,\\\n",
    "             \"rock_g_U238.root\"  : 50000000 * 25,\\\n",
    "             \"rock_g_Th232.root\" : 50000000 * 25,\\\n",
    "             \"rock_n_Unat.root\"  : 4000000 * 25,\\\n",
    "             \"rock_n_Th232.root\" : 4000000 * 25\n",
    "            }\n",
    "    \n",
    "# set some constants:\n",
    "config = { 'density' : 3.26,\\\n",
    "              # g/cm3\n",
    "          'radius' : 100,\\\n",
    "              # cm\n",
    "          'halfz' : 25\\\n",
    "              # cm\n",
    "         }\n",
    "config['volume'] = math.pi*config['radius']**2*config['halfz']*2 # cm3\n",
    "config['mass'] = config['volume'] * config['density'] / 1000 # total mass in kg\n",
    "config['activity'] = 1     # target activity in Bq/kg\n",
    "config['rate'] = config['mass'] * config['activity']    # in Hz\n",
    "\n",
    "for Input,Output in files.items():\n",
    "    print('Procecssing', Input)\n",
    "\n",
    "    # Get the cos(theta) vs E\n",
    "    # first prepare some expressions for ROOT plotting /  generating histograms\n",
    "    expr = \"pz/sqrt((px*px)+(py*py)+(pz*pz)):Eki\"\n",
    "        # ROOT expression to be plotted.\n",
    "    histname = 'theta_vs_E'\n",
    "        # Name of histogram in output file\n",
    "    hist = \"(3000,500,3000,1000,0,1)\"\n",
    "        # Historam to store the result\n",
    "    cut = \"pz>0 && particle==\\\"gamma\\\" && Eki>500\"\n",
    "        # selection criteria\n",
    "\n",
    "    # if the file is for neutron, then change energy range and particle type.\n",
    "    if \"Neutron\" in Output:\n",
    "        print('Neutron simulation, setting range and cuts.')\n",
    "        hist = \"(1000,0,10000,1000,0,1)\"\n",
    "        cut = \"pz>0 && particle==\\\"neutron\\\"\"\n",
    "        \n",
    "        if \"Unat\" in Output:\n",
    "            # Neutron rate from 1 ppb of U-238 in rock with 1 g/cm3-density\n",
    "            config['n_rate'] = 4.914E-11            # neutrons / sec / cm3, since density is 1 g/cm3, it's also n/s/g\n",
    "            # U238: 1 ppb is 12.3 mBq/kg, so 10 ppb is 123 mBq/kg, or 0.123 Bq/kg\n",
    "            config['rate'] = config['n_rate'] * (config['density'] * config['volume']) / 0.0123\n",
    "        if \"Th232\" in Output:\n",
    "            config['n_rate'] = 1.685E-11\n",
    "            config['rate'] = config['n_rate'] * config['density'] * config['volume'] / 0.0041\n",
    "\n",
    "    file1 = ROOT.TFile( Dir+Input, \"READ\")\n",
    "    tree1 = file1.Get(\"events\")\n",
    "    \n",
    "    ROOT.gROOT.cd()\n",
    "    \n",
    "    # Generate the 2D histogram to be written in output using all data.\n",
    "    tree1.Draw( expr+'>>'+histname+hist, cut )\n",
    "    thetaE1_pdf = ROOT.gROOT.Get(histname)\n",
    "    thetaE1_pdf.Scale( 1./thetaE1_pdf.GetEntries() )\n",
    "    \n",
    "    config['Ntotal'] = Nparticle[Input]\n",
    "    config['duration'] = config['Ntotal']/config['rate']\n",
    "          # in second\n",
    "    \n",
    "    config['r_probe'] = 50 # in cm\n",
    "    cut2 = cut + \" && sqrt((rx*rx)+(ry*ry))<{}\".format(config['r_probe']*10)\n",
    "    config['Ndetected'] = tree1.Draw( expr+'>>'+histname+'_flux'+hist, cut2 )\n",
    "    config['flux'] = config['Ndetected']/( config['duration'] * math.pi * config['r_probe']**2 )\n",
    "          \n",
    "    # write them to output\n",
    "    file2 = ROOT.TFile( Dir+Output, \"RECREATE\")\n",
    "    thetaE1_pdf.Write()\n",
    "    \n",
    "    note = ROOT.TMacro('config')\n",
    "    for key in config:\n",
    "        note.AddLine( key+' {}'.format(config[key]) )\n",
    "    note.Write()\n",
    "    \n",
    "    file2.Close()\n",
    "    print(Output, 'written.' )\n",
    "    print('Flux per Bq/kg is {:.5e}'.format(config['flux']), '/cm2/s' )"
   ]
  },
  {
   "cell_type": "code",
   "execution_count": null,
   "metadata": {},
   "outputs": [],
   "source": []
  },
  {
   "cell_type": "code",
   "execution_count": null,
   "metadata": {},
   "outputs": [],
   "source": []
  }
 ],
 "metadata": {
  "kernelspec": {
   "display_name": "Python 3",
   "language": "python",
   "name": "python3"
  },
  "language_info": {
   "codemirror_mode": {
    "name": "ipython",
    "version": 3
   },
   "file_extension": ".py",
   "mimetype": "text/x-python",
   "name": "python",
   "nbconvert_exporter": "python",
   "pygments_lexer": "ipython3",
   "version": "3.6.8"
  }
 },
 "nbformat": 4,
 "nbformat_minor": 4
}
